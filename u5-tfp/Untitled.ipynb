{
 "cells": [
  {
   "cell_type": "code",
   "execution_count": 29,
   "id": "663b2067-bba2-43a5-bd47-8e19f2103216",
   "metadata": {},
   "outputs": [
    {
     "data": {
      "text/latex": [
       "$\\displaystyle - \\frac{i e^{i q}}{q} + \\frac{i e^{- i q}}{q}$"
      ],
      "text/plain": [
       "-I*exp(I*q)/q + I*exp(-I*q)/q"
      ]
     },
     "execution_count": 29,
     "metadata": {},
     "output_type": "execute_result"
    }
   ],
   "source": [
    "import sympy as sp\n",
    "\n",
    "# 定义符号\n",
    "x = sp.symbols('x', real=True)\n",
    "r, q = sp.symbols('r q', real=True, positive=True)\n",
    "\n",
    "# 定义被积函数\n",
    "integrand = sp.exp(-sp.I * q * x)\n",
    "\n",
    "# 计算定积分\n",
    "integral = sp.integrate(integrand, (x, -1, 1))\n",
    "\n",
    "# 显示结果\n",
    "integral"
   ]
  },
  {
   "cell_type": "code",
   "execution_count": 31,
   "id": "3eadc663-3003-4777-a0f9-b5de91f8f611",
   "metadata": {},
   "outputs": [
    {
     "data": {
      "text/latex": [
       "$\\displaystyle \\frac{4}{\\left(q^{2} + 4\\right)^{2}}$"
      ],
      "text/plain": [
       "4/(q**2 + 4)**2"
      ]
     },
     "execution_count": 31,
     "metadata": {},
     "output_type": "execute_result"
    }
   ],
   "source": [
    "import sympy as sp\n",
    "\n",
    "# 定义符号\n",
    "\n",
    "\n",
    "# 定义被积函数\n",
    "# integrand = (r**2/(q**1) * sp.cos(r*q)-r/(q**2) * sp.sin(r*q)) * sp.exp(-3 * r / 2)\n",
    "integrand = (r/q * sp.sin(r*q)) * sp.exp(-4 * r / 2)\n",
    "\n",
    "# 计算定积分\n",
    "integral = sp.integrate(integrand, (r, 0, sp.oo))\n",
    "\n",
    "# 显示结果\n",
    "integral.simplify()\n"
   ]
  },
  {
   "cell_type": "code",
   "execution_count": null,
   "id": "2c5994a7-038e-42cb-8639-577596dba1b4",
   "metadata": {},
   "outputs": [],
   "source": []
  },
  {
   "cell_type": "code",
   "execution_count": null,
   "id": "242fba4d-61aa-4331-83c7-d37bb092dd03",
   "metadata": {},
   "outputs": [],
   "source": [
    "import sympy as sp\n",
    "\n",
    "# 定义符号\n",
    "x, p = sp.symbols('x p', real=True)\n",
    "\n",
    "# 定义被积函数\n",
    "integrand = sp.exp(-sp.I * p * x)\n",
    "\n",
    "# 计算定积分\n",
    "integral = sp.integrate(integrand, (x, -1, 1))\n",
    "\n",
    "# 显示结果\n",
    "integral"
   ]
  }
 ],
 "metadata": {
  "kernelspec": {
   "display_name": "Python 3 (ipykernel)",
   "language": "python",
   "name": "python3"
  },
  "language_info": {
   "codemirror_mode": {
    "name": "ipython",
    "version": 3
   },
   "file_extension": ".py",
   "mimetype": "text/x-python",
   "name": "python",
   "nbconvert_exporter": "python",
   "pygments_lexer": "ipython3",
   "version": "3.12.2"
  }
 },
 "nbformat": 4,
 "nbformat_minor": 5
}
