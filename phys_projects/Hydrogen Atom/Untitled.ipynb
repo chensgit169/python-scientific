{
 "cells": [
  {
   "cell_type": "code",
   "execution_count": 1,
   "id": "ade29d55-316e-41b6-aeb7-633eb0b53c5b",
   "metadata": {},
   "outputs": [
    {
     "ename": "AttributeError",
     "evalue": "module 'sympy' has no attribute 'sph_harm'",
     "output_type": "error",
     "traceback": [
      "\u001b[1;31m---------------------------------------------------------------------------\u001b[0m",
      "\u001b[1;31mAttributeError\u001b[0m                            Traceback (most recent call last)",
      "Cell \u001b[1;32mIn[1], line 14\u001b[0m\n\u001b[0;32m     11\u001b[0m radial_part \u001b[38;5;241m=\u001b[39m normalization \u001b[38;5;241m*\u001b[39m sp\u001b[38;5;241m.\u001b[39mexp(\u001b[38;5;241m-\u001b[39mrho \u001b[38;5;241m/\u001b[39m \u001b[38;5;241m2\u001b[39m) \u001b[38;5;241m*\u001b[39m rho\u001b[38;5;241m*\u001b[39m\u001b[38;5;241m*\u001b[39ml \u001b[38;5;241m*\u001b[39m laguerre_poly\n\u001b[0;32m     13\u001b[0m \u001b[38;5;66;03m# 定义角向部分\u001b[39;00m\n\u001b[1;32m---> 14\u001b[0m angular_part \u001b[38;5;241m=\u001b[39m \u001b[43msp\u001b[49m\u001b[38;5;241;43m.\u001b[39;49m\u001b[43msph_harm\u001b[49m(m, l, phi, theta)\n\u001b[0;32m     16\u001b[0m \u001b[38;5;66;03m# 定义波函数\u001b[39;00m\n\u001b[0;32m     17\u001b[0m psi \u001b[38;5;241m=\u001b[39m radial_part \u001b[38;5;241m*\u001b[39m angular_part\n",
      "\u001b[1;31mAttributeError\u001b[0m: module 'sympy' has no attribute 'sph_harm'"
     ]
    }
   ],
   "source": [
    "import sympy as sp\n",
    "\n",
    "# 定义符号变量\n",
    "r, theta, phi, Z, a0 = sp.symbols('r theta phi Z a0')\n",
    "n, l, m = sp.symbols('n l m', integer=True)\n",
    "\n",
    "# 定义径向部分\n",
    "rho = 2 * Z * r / (n * a0)\n",
    "normalization = sp.sqrt((2 * Z / (n * a0))**3 * sp.factorial(n - l - 1) / (2 * n * (sp.factorial(n + l))**3))\n",
    "laguerre_poly = sp.assoc_laguerre(n - l - 1, 2 * l + 1, rho)\n",
    "radial_part = normalization * sp.exp(-rho / 2) * rho**l * laguerre_poly\n",
    "\n",
    "# 定义角向部分\n",
    "angular_part = sp.sph_harm(m, l, phi, theta)\n",
    "\n",
    "# 定义波函数\n",
    "psi = radial_part * angular_part\n",
    "\n",
    "# 简化表达式\n",
    "psi_simplified = sp.simplify(psi)\n",
    "\n",
    "# 示例量子数\n",
    "n_val = 2\n",
    "l_val = 1\n",
    "m_val = 0\n",
    "\n",
    "# 代入量子数\n",
    "psi_nlm = psi_simplified.subs({n: n_val, l: l_val, m: m_val, Z: 1, a0: 1})\n",
    "\n",
    "# 打印结果\n",
    "sp.pprint(psi_nlm)"
   ]
  }
 ],
 "metadata": {
  "kernelspec": {
   "display_name": "Python 3 (ipykernel)",
   "language": "python",
   "name": "python3"
  },
  "language_info": {
   "codemirror_mode": {
    "name": "ipython",
    "version": 3
   },
   "file_extension": ".py",
   "mimetype": "text/x-python",
   "name": "python",
   "nbconvert_exporter": "python",
   "pygments_lexer": "ipython3",
   "version": "3.12.2"
  }
 },
 "nbformat": 4,
 "nbformat_minor": 5
}
