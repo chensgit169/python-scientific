{
 "cells": [
  {
   "cell_type": "markdown",
   "id": "4620f10f-2e4f-457e-b6df-bf49ad943c16",
   "metadata": {},
   "source": [
    "# Viriational Method for Hydrogen Ground State (SymPy Basic)"
   ]
  },
  {
   "cell_type": "markdown",
   "id": "a7b91b136839951d",
   "metadata": {
    "collapsed": false,
    "jupyter": {
     "outputs_hidden": false
    }
   },
   "source": [
    "In this note, we will use the variational method to estimate the ground state energy of the hydrogen atom. And use ``SymPy`` to do the calculation. The trial wavefunction is chosen as\n",
    "$$\n",
    "\\psi(\\vec r) = (\\frac{2a}{\\pi})^{3/4} e^{-ar^2}\n",
    "$$\n",
    "which is normalized to 1 (in atomic units)."
   ]
  },
  {
   "cell_type": "code",
   "execution_count": 1,
   "id": "ff45f087-4996-43c6-98a3-8d9a1b5df350",
   "metadata": {
    "ExecuteTime": {
     "end_time": "2024-05-30T18:25:01.193616Z",
     "start_time": "2024-05-30T18:25:01.185869Z"
    }
   },
   "outputs": [],
   "source": [
    "import sympy as sp\n",
    "from sympy import exp, sqrt, pi, oo, integrate\n",
    "\n",
    "# define variables and parameters\n",
    "r, a = sp.symbols('r a', real=True, positive=True)\n",
    "\n",
    "# ansatz wavefunction\n",
    "psi = sqrt(sqrt(2*a/pi)**3) * exp(-a*r**2)"
   ]
  },
  {
   "cell_type": "markdown",
   "id": "aea74f5a61b3dbc3",
   "metadata": {
    "collapsed": false,
    "jupyter": {
     "outputs_hidden": false
    }
   },
   "source": [
    "And the Hamiltonian of the hydrogen atom in atomic units is\n",
    "$$\n",
    "H = -\\frac{1}{2} \\nabla^2 - \\frac{1}{r}\n",
    "$$\n",
    "where the Laplacian operator is\n",
    "$$\n",
    "\\nabla^2 = \\frac{1}{r^2} \\frac{\\partial}{\\partial r} (r^2 \\frac{\\partial}{\\partial r})\n",
    "$$\n",
    "for the spherically symmetric wavefunctions."
   ]
  },
  {
   "cell_type": "code",
   "execution_count": 2,
   "id": "6ab63717-0ea9-4ade-90ea-b7479507528c",
   "metadata": {
    "ExecuteTime": {
     "end_time": "2024-05-30T18:20:19.577812Z",
     "start_time": "2024-05-30T18:20:19.571381Z"
    }
   },
   "outputs": [],
   "source": [
    "def apply_hamiltonion(psi):\n",
    "    return -1/2 * psi.diff(r, 2) - 1/r * psi.diff(r) - (1/r) * psi"
   ]
  },
  {
   "cell_type": "markdown",
   "id": "9eefcfc9c64f2b16",
   "metadata": {
    "collapsed": false,
    "jupyter": {
     "outputs_hidden": false
    }
   },
   "source": [
    "As verification, let's take a look at $\\hat H \\psi$."
   ]
  },
  {
   "cell_type": "code",
   "execution_count": 3,
   "id": "90b1b17b-e16d-4d85-a63e-fc3f33a76d5b",
   "metadata": {
    "ExecuteTime": {
     "end_time": "2024-05-30T18:25:59.154188Z",
     "start_time": "2024-05-30T18:25:58.914444Z"
    }
   },
   "outputs": [
    {
     "data": {
      "text/latex": [
       "$\\displaystyle - 2.0 a^{2} r^{2} + 3.0 a - \\frac{1}{r}$"
      ],
      "text/plain": [
       "-2.0*a**2*r**2 + 3.0*a - 1/r"
      ]
     },
     "execution_count": 3,
     "metadata": {},
     "output_type": "execute_result"
    }
   ],
   "source": [
    "sp.simplify(apply_hamiltonion(psi)/psi)"
   ]
  },
  {
   "cell_type": "markdown",
   "id": "9672a84c6dea53e0",
   "metadata": {
    "collapsed": false,
    "jupyter": {
     "outputs_hidden": false
    }
   },
   "source": [
    "Now we can calculate the expectation value of the energy\n",
    "$$\n",
    "E = \\frac{\\langle \\psi | \\hat H | \\psi \\rangle}{\\langle \\psi | \\psi \\rangle}\n",
    "$$"
   ]
  },
  {
   "cell_type": "code",
   "execution_count": 4,
   "id": "531e0408-aced-4136-94bf-ad30a31f946b",
   "metadata": {
    "ExecuteTime": {
     "end_time": "2024-05-30T18:41:07.225177Z",
     "start_time": "2024-05-30T18:41:07.151584Z"
    }
   },
   "outputs": [
    {
     "data": {
      "text/latex": [
       "$\\displaystyle - \\frac{2 \\sqrt{2} \\sqrt{a}}{\\sqrt{\\pi}} + 1.5 a$"
      ],
      "text/plain": [
       "-2*sqrt(2)*sqrt(a)/sqrt(pi) + 1.5*a"
      ]
     },
     "execution_count": 4,
     "metadata": {},
     "output_type": "execute_result"
    }
   ],
   "source": [
    "E = integrate(4*pi*r**2 * psi * apply_hamiltonion(psi), (r, 0, oo))\n",
    "E"
   ]
  },
  {
   "cell_type": "markdown",
   "id": "838f767291aa58a8",
   "metadata": {
    "collapsed": false,
    "jupyter": {
     "outputs_hidden": false
    }
   },
   "source": [
    "To make use of more symbols, we denote the energy as\n",
    "$$\n",
    "E_a = - b \\sqrt{a} + c a\n",
    "$$\n",
    "where $b=\\frac{2\\sqrt{2}}{\\sqrt{\\pi}}$ and $c=\\frac{3}{2}$."
   ]
  },
  {
   "cell_type": "code",
   "execution_count": 5,
   "id": "1444ef19ed9cacdb",
   "metadata": {
    "ExecuteTime": {
     "end_time": "2024-05-30T18:52:15.182014Z",
     "start_time": "2024-05-30T18:52:15.177369Z"
    },
    "collapsed": false,
    "jupyter": {
     "outputs_hidden": false
    }
   },
   "outputs": [],
   "source": [
    "b, c = sp.symbols('b c', real=True, positive=True)\n",
    "b_, c_ = 2*sqrt(2)/sqrt(pi), 3/2\n",
    "Ea = - b * sqrt(a) + c * a"
   ]
  },
  {
   "cell_type": "markdown",
   "id": "3525efbe6bca20da",
   "metadata": {
    "collapsed": false,
    "jupyter": {
     "outputs_hidden": false
    }
   },
   "source": [
    "Tips for calculation by hand: there are two commonly appeared integrals,\n",
    "$$\n",
    "\\int_0^\\infty r^2 e^{-r^2} dr = \\frac{\\sqrt{\\pi}}{4},\\ \\ \n",
    "\\int_0^\\infty r^4 e^{-r^2} dr = \\frac{3\\sqrt{\\pi}}{8}\n",
    "$$"
   ]
  },
  {
   "cell_type": "code",
   "execution_count": 6,
   "id": "e6d785aa-152c-4a27-b7d4-01faabd6eb97",
   "metadata": {
    "ExecuteTime": {
     "end_time": "2024-05-30T18:52:17.752893Z",
     "start_time": "2024-05-30T18:52:17.701879Z"
    }
   },
   "outputs": [
    {
     "data": {
      "text/latex": [
       "$\\displaystyle \\frac{b^{2}}{4 c^{2}}$"
      ],
      "text/plain": [
       "b**2/(4*c**2)"
      ]
     },
     "execution_count": 6,
     "metadata": {},
     "output_type": "execute_result"
    }
   ],
   "source": [
    "am = sp.solve(Ea.diff(a), a)[0]\n",
    "am"
   ]
  },
  {
   "cell_type": "code",
   "execution_count": 7,
   "id": "073611a3-e3df-44d6-a9e7-11b49757a0be",
   "metadata": {
    "ExecuteTime": {
     "end_time": "2024-05-30T18:52:19.885905Z",
     "start_time": "2024-05-30T18:52:19.878239Z"
    }
   },
   "outputs": [
    {
     "data": {
      "text/latex": [
       "$\\displaystyle 0.282942121052258$"
      ],
      "text/plain": [
       "0.282942121052258"
      ]
     },
     "execution_count": 7,
     "metadata": {},
     "output_type": "execute_result"
    }
   ],
   "source": [
    "am_ = am.subs({b: b_, c: c_}).evalf()\n",
    "am_"
   ]
  },
  {
   "cell_type": "markdown",
   "id": "fef9613a886c4060",
   "metadata": {
    "collapsed": false,
    "jupyter": {
     "outputs_hidden": false
    }
   },
   "source": [
    "Or less symbolically,"
   ]
  },
  {
   "cell_type": "code",
   "execution_count": 8,
   "id": "3317168bd7a4bad9",
   "metadata": {
    "ExecuteTime": {
     "end_time": "2024-05-30T18:44:45.136255Z",
     "start_time": "2024-05-30T18:44:45.085821Z"
    },
    "collapsed": false,
    "jupyter": {
     "outputs_hidden": false
    }
   },
   "outputs": [
    {
     "data": {
      "text/latex": [
       "$\\displaystyle 0.282942121052258$"
      ],
      "text/plain": [
       "0.282942121052258"
      ]
     },
     "execution_count": 8,
     "metadata": {},
     "output_type": "execute_result"
    }
   ],
   "source": [
    "sp.solve(E.diff(a), a)[0]"
   ]
  },
  {
   "cell_type": "markdown",
   "id": "2b8a3ac8816c44d2",
   "metadata": {
    "collapsed": false,
    "jupyter": {
     "outputs_hidden": false
    }
   },
   "source": [
    "The energy is"
   ]
  },
  {
   "cell_type": "code",
   "execution_count": 9,
   "id": "d814583a86873514",
   "metadata": {
    "ExecuteTime": {
     "end_time": "2024-05-30T18:52:26.541467Z",
     "start_time": "2024-05-30T18:52:26.533525Z"
    },
    "collapsed": false,
    "jupyter": {
     "outputs_hidden": false
    }
   },
   "outputs": [
    {
     "data": {
      "text/latex": [
       "$\\displaystyle -0.424413181578388$"
      ],
      "text/plain": [
       "-0.424413181578388"
      ]
     },
     "execution_count": 9,
     "metadata": {},
     "output_type": "execute_result"
    }
   ],
   "source": [
    "E.subs(a, am).subs({b: b_, c: c_}).evalf()"
   ]
  },
  {
   "cell_type": "markdown",
   "id": "1d139e86-6d7e-439b-9e94-67540f92c7f2",
   "metadata": {},
   "source": [
    "which is already very close to -1/2."
   ]
  },
  {
   "cell_type": "markdown",
   "id": "e2ad7484ac57ac31",
   "metadata": {
    "collapsed": false,
    "jupyter": {
     "outputs_hidden": false
    }
   },
   "source": [
    "Finally, we can check the overlap between the trial wavefunction and the exact ground state wavefunction of the hydrogen atom, which is\n",
    "$$\n",
    "\\psi_{\\text{1s}}(\\vec r) = \\frac{1}{\\sqrt{\\pi}} e^{-r}\n",
    "$$"
   ]
  },
  {
   "cell_type": "code",
   "execution_count": 10,
   "id": "3c77e092-edd2-4003-9a71-85e62b37f1ab",
   "metadata": {
    "ExecuteTime": {
     "end_time": "2024-05-30T18:50:42.566941Z",
     "start_time": "2024-05-30T18:50:42.484072Z"
    }
   },
   "outputs": [
    {
     "data": {
      "text/latex": [
       "$\\displaystyle 0.97817950740286$"
      ],
      "text/plain": [
       "0.978179507402860"
      ]
     },
     "execution_count": 10,
     "metadata": {},
     "output_type": "execute_result"
    }
   ],
   "source": [
    "psi_1s = 1/sqrt(pi) * exp(-r)\n",
    "int_=integrate(4*pi*r**2*psi.subs(a, am_)*psi_1s, (r, 0, oo)).evalf()\n",
    "\n",
    "int_"
   ]
  },
  {
   "cell_type": "markdown",
   "id": "f6867d2f-c253-408d-a210-cb41e24656e5",
   "metadata": {},
   "source": [
    "Note that the overlap integral cannot be analytically integrated, but can be expressed as summation of Gauss error functions. Thus it can be evaluated by SymPy."
   ]
  }
 ],
 "metadata": {
  "kernelspec": {
   "display_name": "Python 3 (ipykernel)",
   "language": "python",
   "name": "python3"
  },
  "language_info": {
   "codemirror_mode": {
    "name": "ipython",
    "version": 3
   },
   "file_extension": ".py",
   "mimetype": "text/x-python",
   "name": "python",
   "nbconvert_exporter": "python",
   "pygments_lexer": "ipython3",
   "version": "3.12.2"
  }
 },
 "nbformat": 4,
 "nbformat_minor": 5
}
