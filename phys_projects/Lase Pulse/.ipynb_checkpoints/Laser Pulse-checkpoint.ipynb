{
 "cells": [
  {
   "cell_type": "markdown",
   "id": "d7d49f38-b9c6-43f3-8c57-b67a5b250d7d",
   "metadata": {},
   "source": [
    "# Laser Pulse"
   ]
  },
  {
   "cell_type": "code",
   "execution_count": 1,
   "id": "13734351-a48a-4874-bf01-2f5627f71dec",
   "metadata": {},
   "outputs": [],
   "source": [
    "import sympy as sp\n",
    "\n",
    "# Define the symbolic variables and parameters\n",
    "t, w = sp.symbols('t w', real=True)\n",
    "Tp, w0, c = sp.symbols('Tp w0 c', real=True, positive=True, constant=True)\n",
    "\n",
    "\n",
    "def fourier_transform(phi_p, phi_n):\n",
    "    \"\"\"\n",
    "    Fourier transform of the frequency-domain electric field of a laser pulse\n",
    "    into the time domain, given the phase of the positive and negative.\n",
    "    \"\"\"\n",
    "    # Define the frequency-domain field amplitude\n",
    "    E_w = (\n",
    "            sp.exp(-c * Tp ** 2 * (w - w0) ** 2) * sp.exp(sp.I * phi_n)\n",
    "            + sp.exp(-c * Tp ** 2 * (w + w0) ** 2) * sp.exp(sp.I * phi_p)\n",
    "    )\n",
    "\n",
    "    # Compute the Fourier transform of the time-domain signal\n",
    "    return sp.fourier_transform(E_w, w, t/2/sp.pi).simplify()"
   ]
  },
  {
   "cell_type": "code",
   "execution_count": 2,
   "id": "98811584-85e1-4274-82a0-408ae3b4c9b6",
   "metadata": {},
   "outputs": [
    {
     "data": {
      "text/latex": [
       "$\\displaystyle e^{i \\Phi^{+}} e^{- Tp^{2} c \\left(w + w_{0}\\right)^{2}} + e^{i \\Phi^{-}} e^{- Tp^{2} c \\left(w - w_{0}\\right)^{2}}$"
      ],
      "text/plain": [
       "exp(I*Phi^+)*exp(-Tp**2*c*(w + w0)**2) + exp(I*Phi^-)*exp(-Tp**2*c*(w - w0)**2)"
      ]
     },
     "execution_count": 2,
     "metadata": {},
     "output_type": "execute_result"
    }
   ],
   "source": [
    "# display\n",
    "Phi_n, Phi_p = sp.symbols('Phi^- Phi^+', real=True, positive=True, constant=True)\n",
    "sp.exp(-c * Tp ** 2 * (w - w0) ** 2) * sp.exp(sp.I * Phi_n) + sp.exp(-c * Tp ** 2 * (w + w0) ** 2) * sp.exp(sp.I * Phi_p)"
   ]
  },
  {
   "cell_type": "markdown",
   "id": "5dc03800-39de-43b5-b127-9cacc8fd7242",
   "metadata": {},
   "source": [
    "## Bandwidth limit "
   ]
  },
  {
   "cell_type": "code",
   "execution_count": 3,
   "id": "92e2863e-0d1e-4ce2-84f0-90d00562e052",
   "metadata": {},
   "outputs": [],
   "source": [
    "Phi_p = 0\n",
    "Phi_n = 0\n",
    "E_t = fourier_transform(Phi_p, Phi_n)"
   ]
  },
  {
   "cell_type": "code",
   "execution_count": 4,
   "id": "3d36482a-0f7f-45a5-b0dd-3ef9d560b24d",
   "metadata": {},
   "outputs": [
    {
     "data": {
      "text/latex": [
       "$\\displaystyle \\frac{2 \\sqrt{\\pi} e^{- \\frac{t^{2}}{4 Tp^{2} c}} \\cos{\\left(t w_{0} \\right)}}{Tp \\sqrt{c}}$"
      ],
      "text/plain": [
       "2*sqrt(pi)*exp(-t**2/(4*Tp**2*c))*cos(t*w0)/(Tp*sqrt(c))"
      ]
     },
     "execution_count": 4,
     "metadata": {},
     "output_type": "execute_result"
    }
   ],
   "source": [
    "sp.re(E_t).simplify()"
   ]
  },
  {
   "cell_type": "markdown",
   "id": "93b00eb3-151c-4ded-8687-72c6d324ace3",
   "metadata": {},
   "source": [
    "## Evelope Phase"
   ]
  },
  {
   "cell_type": "code",
   "execution_count": 5,
   "id": "fd8e098b-34d4-4723-87fa-14fe03bbafd5",
   "metadata": {},
   "outputs": [],
   "source": [
    "Delta_phi = sp.symbols('Delta_phi', real=True, constant=True)\n",
    "\n",
    "Phi_p = - Delta_phi * (w+w0)\n",
    "Phi_n = - Delta_phi * (w-w0)\n",
    "E_t = fourier_transform(Phi_p, Phi_n)"
   ]
  },
  {
   "cell_type": "code",
   "execution_count": 6,
   "id": "b044ded3-c1a9-4406-bacb-2f59ba91c086",
   "metadata": {},
   "outputs": [
    {
     "data": {
      "text/latex": [
       "$\\displaystyle \\frac{\\sqrt{\\pi} \\left(e^{2 i t w_{0}} + 1\\right) e^{- i t w_{0}} e^{- \\frac{\\Delta_{\\phi}^{2}}{4 Tp^{2} c}} e^{- \\frac{t^{2}}{4 Tp^{2} c}} e^{- \\frac{\\Delta_{\\phi} t}{2 Tp^{2} c}}}{Tp \\sqrt{c}}$"
      ],
      "text/plain": [
       "sqrt(pi)*(exp(2*I*t*w0) + 1)*exp(-I*t*w0)*exp(-Delta_phi**2/(4*Tp**2*c))*exp(-t**2/(4*Tp**2*c))*exp(-Delta_phi*t/(2*Tp**2*c))/(Tp*sqrt(c))"
      ]
     },
     "execution_count": 6,
     "metadata": {},
     "output_type": "execute_result"
    }
   ],
   "source": [
    "E_t.factor()"
   ]
  },
  {
   "cell_type": "markdown",
   "id": "6d34cecd-4413-440b-895a-82d0e6287f77",
   "metadata": {},
   "source": [
    "## Linear chirp"
   ]
  },
  {
   "cell_type": "code",
   "execution_count": 7,
   "id": "5d547ea4-7c57-4eff-a4f4-3bc22b02959e",
   "metadata": {},
   "outputs": [
    {
     "name": "stdout",
     "output_type": "stream",
     "text": [
      "Fourier Transform E(t):\n"
     ]
    },
    {
     "data": {
      "text/latex": [
       "$\\displaystyle \\operatorname{re}{\\left(\\mathcal{F}_{w}\\left[e^{- i \\alpha w^{2}} e^{- i \\alpha w_{0}^{2}} e^{- Tp^{2} c w^{2}} e^{- Tp^{2} c w_{0}^{2}} e^{- 2 i \\alpha w w_{0}} e^{- 2 Tp^{2} c w w_{0}}\\right]\\left(\\frac{t}{2 \\pi}\\right)\\right)} + \\operatorname{re}{\\left(\\mathcal{F}_{w}\\left[e^{i \\alpha w^{2}} e^{i \\alpha w_{0}^{2}} e^{- Tp^{2} c w^{2}} e^{- Tp^{2} c w_{0}^{2}} e^{- 2 i \\alpha w w_{0}} e^{2 Tp^{2} c w w_{0}}\\right]\\left(\\frac{t}{2 \\pi}\\right)\\right)}$"
      ],
      "text/plain": [
       "re(FourierTransform(exp(-I*alpha*w**2)*exp(-I*alpha*w0**2)*exp(-Tp**2*c*w**2)*exp(-Tp**2*c*w0**2)*exp(-2*I*alpha*w*w0)*exp(-2*Tp**2*c*w*w0), w, t/(2*pi))) + re(FourierTransform(exp(I*alpha*w**2)*exp(I*alpha*w0**2)*exp(-Tp**2*c*w**2)*exp(-Tp**2*c*w0**2)*exp(-2*I*alpha*w*w0)*exp(2*Tp**2*c*w*w0), w, t/(2*pi)))"
      ]
     },
     "execution_count": 7,
     "metadata": {},
     "output_type": "execute_result"
    }
   ],
   "source": [
    "alpha = sp.symbols('alpha', real=True, constant=True)\n",
    "\n",
    "Phi_p = - alpha * (w + w0) ** 2\n",
    "Phi_n = + alpha * (w - w0) ** 2\n",
    "E_t = fourier_transform(Phi_p, Phi_n)\n",
    "\n",
    "# Print the result of the Fourier transform\n",
    "print(\"Fourier Transform E(t):\")\n",
    "sp.re(E_t.factor())"
   ]
  },
  {
   "cell_type": "code",
   "execution_count": 8,
   "id": "1d255d16-7740-4ae2-b57f-c74111869097",
   "metadata": {},
   "outputs": [
    {
     "data": {
      "text/latex": [
       "$\\displaystyle \\operatorname{re}{\\left(\\mathcal{F}_{w}\\left[e^{- Tp^{2} c \\left(w - w_{0}\\right)^{2} + i \\alpha \\left(w - w_{0}\\right)^{2}}\\right]\\left(\\frac{t}{2 \\pi}\\right)\\right)} + \\operatorname{re}{\\left(\\mathcal{F}_{w}\\left[e^{- Tp^{2} c \\left(w + w_{0}\\right)^{2} - i \\alpha \\left(w + w_{0}\\right)^{2}}\\right]\\left(\\frac{t}{2 \\pi}\\right)\\right)}$"
      ],
      "text/plain": [
       "re(FourierTransform(exp(-Tp**2*c*(w - w0)**2 + I*alpha*(w - w0)**2), w, t/(2*pi))) + re(FourierTransform(exp(-Tp**2*c*(w + w0)**2 - I*alpha*(w + w0)**2), w, t/(2*pi)))"
      ]
     },
     "execution_count": 8,
     "metadata": {},
     "output_type": "execute_result"
    }
   ],
   "source": [
    "sp.re(E_t).simplify()"
   ]
  },
  {
   "cell_type": "code",
   "execution_count": 10,
   "id": "8323082d-174d-4cde-ad23-332232d57f1f",
   "metadata": {},
   "outputs": [
    {
     "data": {
      "text/latex": [
       "$\\displaystyle \\mathcal{F}_{w}\\left[e^{- Tp^{2} c \\left(w - w_{0}\\right)^{2} + i \\alpha \\left(w - w_{0}\\right)^{2}}\\right]\\left(\\frac{t}{2 \\pi}\\right)$"
      ],
      "text/plain": [
       "FourierTransform(exp(-Tp**2*c*(w - w0)**2 + I*alpha*(w - w0)**2), w, t/(2*pi))"
      ]
     },
     "execution_count": 10,
     "metadata": {},
     "output_type": "execute_result"
    }
   ],
   "source": [
    "E_t.args[0]"
   ]
  },
  {
   "cell_type": "code",
   "execution_count": null,
   "id": "ba795152-cc54-42f0-b74d-4c10e6f9b90d",
   "metadata": {},
   "outputs": [],
   "source": []
  },
  {
   "cell_type": "code",
   "execution_count": null,
   "id": "2a3bbe4f-7d09-4502-823f-16612d3771aa",
   "metadata": {},
   "outputs": [],
   "source": []
  },
  {
   "cell_type": "code",
   "execution_count": null,
   "id": "ce99e631-3d04-4d65-92fc-f2fa25e88ea3",
   "metadata": {},
   "outputs": [],
   "source": []
  }
 ],
 "metadata": {
  "kernelspec": {
   "display_name": "Python 3 (ipykernel)",
   "language": "python",
   "name": "python3"
  },
  "language_info": {
   "codemirror_mode": {
    "name": "ipython",
    "version": 3
   },
   "file_extension": ".py",
   "mimetype": "text/x-python",
   "name": "python",
   "nbconvert_exporter": "python",
   "pygments_lexer": "ipython3",
   "version": "3.12.2"
  }
 },
 "nbformat": 4,
 "nbformat_minor": 5
}
