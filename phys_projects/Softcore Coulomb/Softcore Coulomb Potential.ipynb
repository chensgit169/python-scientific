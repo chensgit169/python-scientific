{
 "cells": [
  {
   "cell_type": "code",
   "execution_count": 1,
   "id": "bd55a89d-25c1-4ee5-970b-8c973dc09c69",
   "metadata": {},
   "outputs": [],
   "source": [
    "import sympy as sp"
   ]
  },
  {
   "cell_type": "code",
   "execution_count": 3,
   "id": "a984a1ab-52d5-49bb-9462-716166306d5c",
   "metadata": {},
   "outputs": [],
   "source": [
    "x = sp.symbols('x', real=True)"
   ]
  },
  {
   "cell_type": "code",
   "execution_count": 12,
   "id": "2b7376a2-1dca-4d6d-975f-049bf200f835",
   "metadata": {},
   "outputs": [
    {
     "data": {
      "text/latex": [
       "$\\displaystyle \\left(\\sqrt{x^{2} + 2} + 1\\right) e^{- \\sqrt{x^{2} + 2}}$"
      ],
      "text/plain": [
       "(sqrt(x**2 + 2) + 1)*exp(-sqrt(x**2 + 2))"
      ]
     },
     "execution_count": 12,
     "metadata": {},
     "output_type": "execute_result"
    }
   ],
   "source": [
    "psi=(1+sp.sqrt(2+x**2))*sp.exp(-sp.sqrt(2+x**2))\n",
    "psi"
   ]
  },
  {
   "cell_type": "code",
   "execution_count": 13,
   "id": "4e542a19-de9f-4b6e-8b0e-1469ff73d468",
   "metadata": {},
   "outputs": [
    {
     "data": {
      "text/latex": [
       "$\\displaystyle \\frac{1}{\\sqrt{x^{2} + 2}}$"
      ],
      "text/plain": [
       "1/sqrt(x**2 + 2)"
      ]
     },
     "execution_count": 13,
     "metadata": {},
     "output_type": "execute_result"
    }
   ],
   "source": [
    "v=1/sp.sqrt(2+x**2)\n",
    "v"
   ]
  },
  {
   "cell_type": "code",
   "execution_count": 15,
   "id": "9d43bb6a-77ab-4c6d-8cfe-6b7a64580b2f",
   "metadata": {},
   "outputs": [
    {
     "data": {
      "text/latex": [
       "$\\displaystyle -0.5$"
      ],
      "text/plain": [
       "-0.500000000000000"
      ]
     },
     "execution_count": 15,
     "metadata": {},
     "output_type": "execute_result"
    }
   ],
   "source": [
    "sp.simplify(-1/2*psi.diff(x, 2)/psi-v)"
   ]
  }
 ],
 "metadata": {
  "kernelspec": {
   "display_name": "Python 3 (ipykernel)",
   "language": "python",
   "name": "python3"
  },
  "language_info": {
   "codemirror_mode": {
    "name": "ipython",
    "version": 3
   },
   "file_extension": ".py",
   "mimetype": "text/x-python",
   "name": "python",
   "nbconvert_exporter": "python",
   "pygments_lexer": "ipython3",
   "version": "3.12.2"
  }
 },
 "nbformat": 4,
 "nbformat_minor": 5
}
