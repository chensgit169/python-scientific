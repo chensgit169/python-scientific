{
 "cells": [
  {
   "cell_type": "code",
   "execution_count": 3,
   "id": "c7f15ecc-b636-4b78-8580-be232fb03598",
   "metadata": {},
   "outputs": [],
   "source": [
    "import main\n",
    "import numpy as np\n",
    "import sympy as sp"
   ]
  },
  {
   "cell_type": "code",
   "execution_count": 4,
   "id": "f2af48b6-b5d4-46d7-95c1-87a0730db73c",
   "metadata": {},
   "outputs": [],
   "source": [
    "from sympy.abc import tau, rho"
   ]
  },
  {
   "cell_type": "code",
   "execution_count": 5,
   "id": "aea7813c-7e97-4acd-bdba-3082522eb5f1",
   "metadata": {},
   "outputs": [],
   "source": [
    "coords = [tau, rho]\n",
    "g_ab = np.diag([rho ** 2, -sp.Integer(1)])"
   ]
  },
  {
   "cell_type": "code",
   "execution_count": 9,
   "id": "e9ad4cbe-f2e2-4b81-9e95-803a18e3c590",
   "metadata": {},
   "outputs": [],
   "source": [
    "gamma = main.christoffel_symbols(coords, g_ab)"
   ]
  },
  {
   "cell_type": "code",
   "execution_count": 10,
   "id": "3e78ea4a-9af5-44b8-8042-db5d17521470",
   "metadata": {},
   "outputs": [
    {
     "data": {
      "text/plain": [
       "array([[[0, 1/rho],\n",
       "        [1/rho, 0]],\n",
       "\n",
       "       [[rho, 0],\n",
       "        [0, 0]]], dtype=object)"
      ]
     },
     "execution_count": 10,
     "metadata": {},
     "output_type": "execute_result"
    }
   ],
   "source": [
    "gamma"
   ]
  },
  {
   "cell_type": "code",
   "execution_count": 7,
   "id": "fc116b7f-4b4a-4b00-8f73-37c75f024094",
   "metadata": {},
   "outputs": [],
   "source": [
    "riemann = main.curvature_tensor(coords, g_ab)"
   ]
  },
  {
   "cell_type": "code",
   "execution_count": 8,
   "id": "d2433767-4cba-4e22-a11e-da4aac23c5de",
   "metadata": {},
   "outputs": [
    {
     "data": {
      "text/plain": [
       "array([[[[0, 0],\n",
       "         [0, 0]],\n",
       "\n",
       "        [[0, 0],\n",
       "         [0, 0]]],\n",
       "\n",
       "\n",
       "       [[[0, 0],\n",
       "         [0, 0]],\n",
       "\n",
       "        [[0, 0],\n",
       "         [0, 0]]]], dtype=object)"
      ]
     },
     "execution_count": 8,
     "metadata": {},
     "output_type": "execute_result"
    }
   ],
   "source": [
    "riemann"
   ]
  }
 ],
 "metadata": {
  "kernelspec": {
   "display_name": "Python 3 (ipykernel)",
   "language": "python",
   "name": "python3"
  },
  "language_info": {
   "codemirror_mode": {
    "name": "ipython",
    "version": 3
   },
   "file_extension": ".py",
   "mimetype": "text/x-python",
   "name": "python",
   "nbconvert_exporter": "python",
   "pygments_lexer": "ipython3",
   "version": "3.12.2"
  }
 },
 "nbformat": 4,
 "nbformat_minor": 5
}
